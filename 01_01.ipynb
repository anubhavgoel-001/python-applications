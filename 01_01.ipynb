{
  "nbformat": 4,
  "nbformat_minor": 0,
  "metadata": {
    "colab": {
      "provenance": [],
      "collapsed_sections": [],
      "authorship_tag": "ABX9TyMvec4cKMi4jld588Aet4U1",
      "include_colab_link": true
    },
    "kernelspec": {
      "name": "python3",
      "display_name": "Python 3"
    },
    "language_info": {
      "name": "python"
    }
  },
  "cells": [
    {
      "cell_type": "markdown",
      "metadata": {
        "id": "view-in-github",
        "colab_type": "text"
      },
      "source": [
        "<a href=\"https://colab.research.google.com/github/tomersk/python-applications/blob/main/01_01.ipynb\" target=\"_parent\"><img src=\"https://colab.research.google.com/assets/colab-badge.svg\" alt=\"Open In Colab\"/></a>"
      ]
    },
    {
      "cell_type": "code",
      "execution_count": null,
      "metadata": {
        "id": "YUaOvtRNY7eE"
      },
      "outputs": [],
      "source": []
    },
    {
      "cell_type": "markdown",
      "source": [
        "1. Reading Netcdf file for each year"
      ],
      "metadata": {
        "id": "w-ickmJyZAxe"
      }
    },
    {
      "cell_type": "code",
      "source": [
        "from google.colab import drive\n",
        "import netCDF4 as nc\n",
        "import matplotlib.pyplot as plt\n",
        "import numpy as np\n",
        "\n",
        "drive.mount(\"/content/gdrive/\")\n",
        "\n",
        "file = '/content/gdrive/My Drive/Colab Notebooks/IMD/rain_1901.nc'\n",
        "\n",
        "\n"
      ],
      "metadata": {
        "id": "pFd7To9PZJ0W",
        "colab": {
          "base_uri": "https://localhost:8080/"
        },
        "outputId": "4b59d438-3ad1-43b0-f83c-27b9d9232616"
      },
      "execution_count": 15,
      "outputs": [
        {
          "output_type": "stream",
          "name": "stdout",
          "text": [
            "Drive already mounted at /content/gdrive/; to attempt to forcibly remount, call drive.mount(\"/content/gdrive/\", force_remount=True).\n"
          ]
        }
      ]
    },
    {
      "cell_type": "code",
      "source": [
        "ds = nc.Dataset(file)\n",
        "print(ds)\n",
        "\n",
        "# print the dimensions of the nc file\n",
        "print(ds.dimensions)\n",
        "print(ds.variables)\n",
        "print(\"======= Variable names on seperate line =====\")\n",
        "# print one by one\n",
        "for var in ds.variables:\n",
        "  print(var)\n"
      ],
      "metadata": {
        "id": "lrHMCYhh-y6l",
        "colab": {
          "base_uri": "https://localhost:8080/"
        },
        "outputId": "649aa2cb-5ee4-4f85-af26-78a6b28dcf7b"
      },
      "execution_count": 16,
      "outputs": [
        {
          "output_type": "stream",
          "name": "stdout",
          "text": [
            "<class 'netCDF4._netCDF4.Dataset'>\n",
            "root group (NETCDF3_64BIT_OFFSET data model, file format NETCDF3):\n",
            "    dimensions(sizes): lat(129), lon(135), time(365)\n",
            "    variables(dimensions): int32 time(time), float64 lon(lon), float64 rain(lat, lon, time), float64 lat(lat)\n",
            "    groups: \n",
            "{'lat': <class 'netCDF4._netCDF4.Dimension'>: name = 'lat', size = 129, 'lon': <class 'netCDF4._netCDF4.Dimension'>: name = 'lon', size = 135, 'time': <class 'netCDF4._netCDF4.Dimension'>: name = 'time', size = 365}\n",
            "{'time': <class 'netCDF4._netCDF4.Variable'>\n",
            "int32 time(time)\n",
            "    units: days since 1901-01-01 00:00:00\n",
            "    calendar: proleptic_gregorian\n",
            "unlimited dimensions: \n",
            "current shape = (365,)\n",
            "filling on, default _FillValue of -2147483647 used, 'lon': <class 'netCDF4._netCDF4.Variable'>\n",
            "float64 lon(lon)\n",
            "    _FillValue: nan\n",
            "unlimited dimensions: \n",
            "current shape = (135,)\n",
            "filling on, 'rain': <class 'netCDF4._netCDF4.Variable'>\n",
            "float64 rain(lat, lon, time)\n",
            "    long_name: rainfall\n",
            "    units: mm/day\n",
            "    _FillValue: nan\n",
            "unlimited dimensions: \n",
            "current shape = (129, 135, 365)\n",
            "filling on, 'lat': <class 'netCDF4._netCDF4.Variable'>\n",
            "float64 lat(lat)\n",
            "    _FillValue: nan\n",
            "unlimited dimensions: \n",
            "current shape = (129,)\n",
            "filling on}\n",
            "======= Variable names on seperate line =====\n",
            "time\n",
            "lon\n",
            "rain\n",
            "lat\n"
          ]
        }
      ]
    },
    {
      "cell_type": "code",
      "source": [
        "latitude=ds.variables['lat'][:]\n",
        "longitude=ds.variables['lon'][:]\n",
        "day=ds.variables['time'][:]\n",
        "rainfall=ds.variables['rain'][:]"
      ],
      "metadata": {
        "id": "jDdkcUTT_LUc"
      },
      "execution_count": 17,
      "outputs": []
    },
    {
      "cell_type": "code",
      "source": [
        "ds.close()"
      ],
      "metadata": {
        "id": "JI4B8mIYDkVx"
      },
      "execution_count": 18,
      "outputs": []
    },
    {
      "cell_type": "markdown",
      "source": [
        "2. Visualizing Data- 1 Day rainfall plot"
      ],
      "metadata": {
        "id": "rUFxVJSskfC0"
      }
    },
    {
      "cell_type": "code",
      "source": [
        "#plt.bar(day,rainfall[60,60,:])\n",
        "plt.imshow(rainfall[:,:,1])\n",
        "plt.colorbar()\n",
        "plt.xticks(longitude)\n",
        "plt.gca().invert_yaxis()\n",
        "print(max(rainfall[80,65,:]))\n"
      ],
      "metadata": {
        "id": "vxQdYerEECXz",
        "colab": {
          "base_uri": "https://localhost:8080/",
          "height": 282
        },
        "outputId": "929bae52-4e2b-4255-8aa4-3bd98f0b681b"
      },
      "execution_count": 44,
      "outputs": [
        {
          "output_type": "stream",
          "name": "stdout",
          "text": [
            "72.27489471435547\n"
          ]
        },
        {
          "output_type": "display_data",
          "data": {
            "text/plain": [
              "<Figure size 432x288 with 2 Axes>"
            ],
            "image/png": "[encoded data removed]"
          },
          "metadata": {
            "needs_background": "light"
          }
        }
      ]
    },
    {
      "cell_type": "code",
      "source": [
        "len(longitude)"
      ],
      "metadata": {
        "colab": {
          "base_uri": "https://localhost:8080/"
        },
        "id": "NNYsEetx0swO",
        "outputId": "94c5c76c-ae9f-4d73-8d97-4d0f6bac7194"
      },
      "execution_count": 43,
      "outputs": [
        {
          "output_type": "execute_result",
          "data": {
            "text/plain": [
              "135"
            ]
          },
          "metadata": {},
          "execution_count": 43
        }
      ]
    },
    {
      "cell_type": "code",
      "source": [
        "\n"
      ],
      "metadata": {
        "id": "ARNU3Y6VEVkb"
      },
      "execution_count": null,
      "outputs": []
    }
  ]
}