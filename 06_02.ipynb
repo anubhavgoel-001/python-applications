{
  "nbformat": 4,
  "nbformat_minor": 0,
  "metadata": {
    "colab": {
      "provenance": [],
      "collapsed_sections": [],
      "authorship_tag": "ABX9TyMGs4l4p+iJUskmyNTPzrsx",
      "include_colab_link": true
    },
    "kernelspec": {
      "name": "python3",
      "display_name": "Python 3"
    },
    "language_info": {
      "name": "python"
    }
  },
  "cells": [
    {
      "cell_type": "markdown",
      "metadata": {
        "id": "view-in-github",
        "colab_type": "text"
      },
      "source": [
        "<a href=\"https://colab.research.google.com/github/tomersk/python-applications/blob/main/06_02.ipynb\" target=\"_parent\"><img src=\"https://colab.research.google.com/assets/colab-badge.svg\" alt=\"Open In Colab\"/></a>"
      ]
    },
    {
      "cell_type": "markdown",
      "source": [
        "Pastas is a new and open source Python package for the analysis of hydrogeological time series. The objective of Pastas is twofold: to provide a scientific framework to develop and test new methods, and to provide a reliable ready-to-use software tool for groundwater practitioners. For technical details of the package, please refer to https://doi.org/10.1111/gwat.12925 and https://github.com/pastas/pastas. "
      ],
      "metadata": {
        "id": "g-0s2ibzBx7d"
      }
    },
    {
      "cell_type": "markdown",
      "source": [
        "1. First we install pastas package"
      ],
      "metadata": {
        "id": "oTE6N0hDDQFN"
      }
    },
    {
      "cell_type": "code",
      "source": [
        "pip install pastas"
      ],
      "metadata": {
        "id": "txDg2ASXC0WV"
      },
      "execution_count": null,
      "outputs": []
    },
    {
      "cell_type": "markdown",
      "source": [
        "2. Import the pastas and pandas"
      ],
      "metadata": {
        "id": "QkRXRO9UDqWG"
      }
    },
    {
      "cell_type": "code",
      "source": [
        "import pastas as ps"
      ],
      "metadata": {
        "id": "OHxwk8NWDISO"
      },
      "execution_count": null,
      "outputs": []
    },
    {
      "cell_type": "code",
      "source": [
        "import pandas as pd"
      ],
      "metadata": {
        "id": "wg6B4mxwDZCV"
      },
      "execution_count": null,
      "outputs": []
    },
    {
      "cell_type": "markdown",
      "source": [
        "3. Read the time series"
      ],
      "metadata": {
        "id": "4o7Q5LoBDx-U"
      }
    },
    {
      "cell_type": "code",
      "source": [
        "obs = pd.read_csv('obs.csv', index_col='Date', parse_dates=True)\n",
        "rain = pd.read_csv('rain.csv', index_col='Date', parse_dates=True)\n",
        "evap = pd.read_csv('evap.csv', index_col='Date', parse_dates=True)"
      ],
      "metadata": {
        "id": "uzOqnRKBDMg2"
      },
      "execution_count": null,
      "outputs": []
    },
    {
      "cell_type": "markdown",
      "source": [
        "3. Create a model object"
      ],
      "metadata": {
        "id": "KlRSQFd6EGwm"
      }
    },
    {
      "cell_type": "code",
      "source": [],
      "metadata": {
        "id": "MTZll-L5EE_t"
      },
      "execution_count": null,
      "outputs": []
    }
  ]
}