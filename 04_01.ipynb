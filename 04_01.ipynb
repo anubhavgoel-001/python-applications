{
  "nbformat": 4,
  "nbformat_minor": 0,
  "metadata": {
    "colab": {
      "provenance": [],
      "collapsed_sections": [],
      "authorship_tag": "ABX9TyPBCnNTROYcl6rrwvsUdk8D",
      "include_colab_link": true
    },
    "kernelspec": {
      "name": "python3",
      "display_name": "Python 3"
    },
    "language_info": {
      "name": "python"
    }
  },
  "cells": [
    {
      "cell_type": "markdown",
      "metadata": {
        "id": "view-in-github",
        "colab_type": "text"
      },
      "source": [
        "<a href=\"https://colab.research.google.com/github/tomersk/python-applications/blob/main/04_01.ipynb\" target=\"_parent\"><img src=\"https://colab.research.google.com/assets/colab-badge.svg\" alt=\"Open In Colab\"/></a>"
      ]
    },
    {
      "cell_type": "markdown",
      "source": [
        "# 4.1 SCS Curve Number (CN) Method\n",
        "The Soil Conservation Service devloped a simple method for computing abstrations from storm rainfall based on Curve Number. \n",
        "As per curve number method, excess precipitation or direct runoff is given by:\n",
        "\n",
        "${P_e} = \\frac{(P-I_a)^2}{P-I_a+S}$\n",
        "\n",
        "where, $P$ = total rainfall, $I_a$ = initial abstraction, $S$ = potential maximum retention which is given as:\n",
        "\n",
        "$S = \\frac{1000}{CN}-10$\n",
        "\n",
        "where $CN$ = Curve Number depending on LULC, soil type and antecedant moisture condition.\n"
      ],
      "metadata": {
        "id": "u-2KPRL3JoDL"
      }
    },
    {
      "cell_type": "code",
      "execution_count": null,
      "metadata": {
        "id": "-CNv-u2LEv3A"
      },
      "outputs": [],
      "source": [
        "import numpy as np\n",
        "def CN_Runoff(CN,P):\n",
        "  S = 1000/CN - 10\n",
        "  Pe = ((P-0.2*S)**2)/(P+0.8*S)\n",
        "  print('Direct Runoff is = ',Pe,' in')\n",
        "  return(Pe)"
      ]
    },
    {
      "cell_type": "code",
      "source": [
        "# Example\n",
        "CN = 83.8\n",
        "P = 5\n",
        "Pe = CN_Runoff(CN,P)"
      ],
      "metadata": {
        "colab": {
          "base_uri": "https://localhost:8080/"
        },
        "id": "D5jFpBcOF3S2",
        "outputId": "26c43d0a-3002-40ab-b1d7-944ddd810ce6"
      },
      "execution_count": null,
      "outputs": [
        {
          "output_type": "stream",
          "name": "stdout",
          "text": [
            "Direct Runoff is =  3.251051711581748  in\n"
          ]
        }
      ]
    },
    {
      "cell_type": "markdown",
      "source": [
        "Example: Storm rainfall occurred on a watershed as shown in the table below. The value of CN is 80 and Antecedent Moisture Condition II applies.\n",
        "Calculate the cumulative abstractions and the excess rainfall hyetograph. (V.T. Chow, Ex. 5.5.4)\n",
        "\n",
        "![image.png](data:image/png;base64,iVBORw0KGgoAAAANSUhEUgAAANwAAAC1CAYAAAA0oZETAAAN40lEQVR4nO3dMZaqSBgF4MucWQq8wOcKcAVgYmTaGYaSdGZoZoKhZJ0addKwAlkBbdCwl5oAUFRAULsKx/ud08G8oREofiiKrqsWx7EAEUnxLwD8/ftX9XYo8/39/dL7T/J8f3/jH9UbQfRKWHBEErHgiCRiwRFJdEfBhZhpGjRthvBx29P8iTMNmjbCOi19/miNtGrhdI2RpkGbydq635BiPbp2jOW3w3W3bFOxr21+7/y4tDlO7VWeZ23XfeW8qy+44hcrf4qNkShdY+kDcBaY6y2W1+dYOAD8ZfdtDWen+1tX1NI99sRqVpxopz+/df1K129wI8AJBITYwHrYmjvuR9fz7NyV866+4PQ5dkJACIHEMwEAppdACAEhdpjrFjbi0QenXvq1RQTAmbT/NGviAIiw/WpfLul6BM32ASfI91UgmW7xJv0K09Yvt4PpIRECQiTwTMC321xs5Z4b7TgITvajuuguz7Pu+9J03t3RpTy72uZ3xNE6LHUNsp3KbtFVV5b0ZNmmO2eyjwCYGBiX/++rbv3GACaAaJ+03KcQKzcC4CDYHA+vPt9hN9crugvF9ufb3fUYXFvfiRTrkQE3AgAf9uHOW26Hit8vPuNwl25/zE/p+DMEgAiHw3nWExgdP/TsTpzdZaqOS7YaDUa2Y/Dt0rbWrv8eOsbT7AYS/1yu7/I867YvABrPu4cPmkTuEvgQEIkHE9kBXA4SCBHAAeDb5X63ATcqrjwCgRPBNaq6SyE+fQAY4s/5bT5ysZ+IivUD0P9gCAD+Z7suWPgJHwCcyV1X5vbHoAsd8112dT5crXdz6GfLZCdT6eqa7BEBMKdj6J2O+bmiDRxMLGSFvByc3P0id9W4nsi1sV9ctpW1OfainCDfrxvWf7+G86zlvgBoPO8eP0ppTjHWAehjTPOTYzHXAViYOAAQ4ycFkH5hm927Dyd3div28Vl3VM0BLm5wpod3C5frBwAYGJjtNz39idsv3KTtMfgF+niaXV23X0gBhJ8+ABPTsX7bMY9cGJoGTbPhmx6Somulz7E7FHxx97uyX41tdb4jN6y/laIXkx+Tyu2sOM8ulrntvFP3WiC/8sK3j90G21e2OQCgZ6363Ioij/ZIiit2cQG45Zjnz3BJdos5eZYtd5N/o+keu/68G67Z8GHCS3a3DYrcSfl7uONAzPFno+pJO+97t+6C9lLRrfTxuf5BjKI7eXTLMT+/c6brEbKxpaJr+ti9ePz6j93obNDvEVvZnbqCsyZw0LFfHu3Rdvgjk2AfdVi8GNKFD7v8FBzOsgf28755uMoHMW7UeX3tulZFcfiui6jcdbrlmB9Wmh+byMXq8MvF4ELx7PNov73+Gp3Ps3P1553CO5yFjQjgHG71TS89b3z2SbMrfJdBkMMDfLnbtRzgI38G2wTZM4+d/3vgdXhIvPy0zuuz3j2YiOAaDe8HD8+OOHYni89rfcwrPjtrBPifIfT5Ak6xHZoNOI+9xf32+qs96Bm76byL41g8g8QzBQDhBB1+KXAEAGF6Se0iz7L/JMdN59m5mvMujmOh/BmurUM3qXY47dLJCB1RC7ecZ+caz7tnusIHDgRgioYb1lHiCRMQuHKpeqb9Jzk6nWfnGs67OI6FFsexeOUZz5zxTbJ8f39DY6YJkTzMNOEdjiRhpgmRZCw4IolYcEQSseCIJGLBEUmkruDOMlOeOuvnlbDd7qKo4ELMDBcopokETsusDFKL7Xavf5V8avgJHw6CYlKS9Q7PNLKsDP7ZY3+x3e6m5A6X/sSV09irQl2oP9hu9+vJoEkxsZKeC9utq54UXIpH5feQTGy3rpQUnP5nWDmNfXgtm4yUYrvdT80dzprAKUezhSu4UZ53SP3FdrubmlFKWNgkHkaGBg0A8tgytlvfsd3upajgkH93wVzZx9ON2G536cmgCdFrYMERScSCI5KImSZEEjHThJkmJAkzTYgkY8ERScSCI5KIBUckEQuOSCKlBZeuR9A0LfuyQ+qXDtklRTsy5+Q6dZkmmoY3LHDX9xnSL+mQXZKu8badIsm/zjfxTPh2uy94fEWKCs7CRgjs5ueT9akX8uySxUl2SZRll5zT59jt5odIk+z71e78BtH/MT7D0YW7skuSPSIMwTmp1dRNz6En0ja7JMV66cP0Es6Rq8GCoxby7JJB81LhzIALD8mct7c67FLShVuyS8KZBjv2kJSe5+gSC44uNWaXpFiPNGiHsf/sv1ls7Sh9LaBpBtwIiFyD7+N6Jcsuie383Zodw0s21c9l4QpuBCByYZTexWl8GVdJi+NYvPL0FE7PIVk4PYdIMhYckUQsOCKJmGlCJBEzTThoQpJw0IRIMhYckUQsOCKJWHBEErHgiCRSVnDMwei5DpkmCGeltqyJYiAAqgqOORg91yHTJJzlf9ws8mWHcA22ZR01BcccjH7rkGmSxTFMMS4a05rAYVvW6sczHHMweqVLpkn1ZNWawCHqQ8QCczD6ryHTxNogcDTYmp//gwnTBFpFoLwg5Xe4IgfjgzkYPZZnmtSwNvnzmxAQYoFhJG/Lno3SgmMORj/dkmlykD//TdhdqaSo4JiD0WudMk3KQsxsH6b3zseDGmoKjjkYPdch0+TkfZ2N2Euw4+NBLWaacHoOScLpOUSSseCIJGLBEUnETBMiiZhpwkETkoSDJkSSseCIJGLBEUnEgiOSiAVHJFFPMk04Jb8vina59l19tZk0J/kmGtv4jLIvZFyVMk0Cx4fNP1xWLPuSzDcs4JlXFm3KpLE2pblxRfsCcCacQQBlBWdhU5qWYwxMIP4BYzBUsrARArv5ebBChS6ZNOkaS9+E985yA3rxDBdi5UYwp2POi3tWDZk04cpF5CzAGTsZdZkm4QyanedgOAEEW+RJNWXShPj0ASfg3a2g7g5X6usngyUfqp9UUyZNul7CNz2wN3nUgy4lcymfVXMmTfao4CwYoVGmLHl5VBqVTL+2zKXstfMck+uZNOl6yTChCoqSl8eYxvbhHU2Wql2TmUGSZK8FNM2AGwGRa9S/j7uaSZMPhDFM6AIzTTg9hyTh9BwiyVhwRBKx4IgkYqYJkUTMNOGgCUnCQRMiyVhwRBKx4IgkYsERScSCI5JIecGFM61Vhgb9vtqckqvLXk6tapuN8mrUFlw4gx07cK5laNDva8opudCUSdMhG+UFKSy4bKaws3jHQN1GUKFLTkljJk2HbJQXpDAm7w3uMMCG8zf6qSGn5BQzabpQk2mSrvHmDhEIC2BWVw815ZTkmElzEwV3uBTrNxfDgBNO+6opp+SAmTQ3UVBwCfYR4NvFCFdphvFozfudYs05JdWYSdOegoLLHqqPybwJPBMwvQSiQyPTozXllJxlmjCT5mbK38NRT1zNKSlpzKTpkI3ygphpwuk5JAmn5xBJxoIjkogFRyQRM02IJGKmCQdNSBIOmhBJxoIjkogFRyQRC45IIhYckUSKCi7/Y9hrf7NHSrTNmTnNNRkhW5xt20TpHc4JSrMGOPW7H1rmzKTrEYxSrokQO5Snz7Ftq7FLSSVtc2ZCrFzA++B0qq6UFtxxEmrRHSGVWufMpD+IAWzf6ruNbNtqigpOx3x37HIkHuAanKKvVJEz06b7l+wRAZh+5G2YeDB9O8+xZNs26UWXUp8v4MDHJ1tFkVtyZkozvPUxpiYQV2QssG1P9aLgsi6KiQGjDBXpmDNjDNpnmLBtTygpuHB22q8PVy4ic4oxn8AVuZYzc5Zpoo8xNSNsv/JGDFdwIxPTsc62vUJJLqU1GcI2NLjFP5jdUqJINR3zDw9bw4CWN6ITiOy1ANu2ETNNOD2HJOH0HCLJWHBEErHgiCRipgmRRMw04aAJScJBEyLJWHBEErHgiCRiwRFJxIIjkkhpwVVnYpAa3bJITttOw8mi4YztWkNZwV3LxCA1WmWRpGu8ldou8Uz4dj7JNJxBs2N4Sb6OYMgJqCWKCo6ZGE9Nn2NXmgFQ/o7v9CcGytNxrAkcfv/3gZqCa5GJQWrclEWS7A/f8a3/GQLRHsnJAhH2Sc3vvhg1BdeYiUFq3JpFkiV9md57Fs9gbRA4PuzDM9wS8ZXIvVeicNCkXSYGqdE2iyScGXDh4aP0AG5tyrPHFxhGv7yxT0RNwXXJxCA1WmSRhDMNdnxlRnf4CR8OJsyCBaCq4BoyMUiN5iySs0yT/L+vFhtCzOxSd5OAOI6FEoknTEAg/3ECNZuhbP/7JnAObQFAwPREcvififBMCBSNdL5s8eMEF+1qeknNB76eOI4FM004PYck4fQcIslYcEQSseCIJGKmCZFEzDThoAlJwkETIslYcEQSseCIJGLBEUnEgiOSSE3BnWRelH84FV+dezJNLtuNeTXV1BSctSnNl8p+AgeAM+FflSvWKtMEIValTJPA8WGXipN5NfWUfAPqhXSNpW/CS1huz8HCZndsK2NgAtsfpLCgF3k1CfNqqvTiGS5cuYicBa+CPdA90yTEyo1gTsdZgTGvplEPCi7Epw84nBKsWMdMk8NzuA3fCbArrpbMq2mkvODS9RK+6eGd9dYrVzNNSs/hyWB5NnDCvJo6igsu6444C/b3e6dFpkmhnEvJvJpmiqPOlwyY6YlOmSbpGqPyqOTX9pBLybyaZgpHKfOHbe+DrwJ6wJoMYRsa3OIfzIaAIH2MaWxA0w4Lw0s2eTvqmH942BoGtHxlTiA4IJZjpgmn55AknJ5DJBkLjkgiFhyRRMw0IZLoP3wSL7KSxSIJAAAAAElFTkSuQmCC)\n",
        "\n"
      ],
      "metadata": {
        "id": "XWUWytqr86eR"
      }
    },
    {
      "cell_type": "markdown",
      "source": [
        "Solution. For $CN = 80$, $S = (1000/80) - 10 = 2.50$ in; $I_a = 0.2\\times S = 0.5$ in. The\n",
        "initial abstraction absorbs all of the rainfall up to $P = 0.5$ in. This includes the 0.2\n",
        "in of rainfall occurring during the first hour and 0.3 in of the rain falling during\n",
        "the second hour. For $P > 0.5$ in, the continuing abstraction Fa is computed as follows,\n",
        "\n",
        "$F_a=\\frac{S(P-I_a)}{P-I_a+S}$\n"
      ],
      "metadata": {
        "id": "xmzvGo-u-eRY"
      }
    },
    {
      "cell_type": "code",
      "source": [
        "import numpy as np\n",
        "import matplotlib.pyplot as plt\n",
        "CN=80\n",
        "time=np.arange(0,8)\n",
        "#print (time)\n",
        "P = [None] * len(time)\n",
        "P = [0, 0.20, 0.90, 1.27, 2.31, 4.65, 5.29, 5.36]\n",
        "#print (P)\n",
        "Ia = [None] * len(time)\n",
        "Fa = [None] * len(time)\n",
        "Pe = [None] * len(time)\n",
        "pe = [None] * len(time)\n",
        "pe[0]=0\n",
        "S=(1000/CN)-10\n",
        "Ia[0]=0.2*S\n",
        "Fa[0]=0\n",
        "Pe[0]=0\n",
        "for i in time[1:]: \n",
        "  Ia[i]=0.2*S \n",
        "  if P[i]< Ia[i]:\n",
        "    Ia[i]=P[i]\n",
        "    Fa[i]=0 \n",
        "    Pe[i]=0\n",
        "  else:\n",
        "    Fa[i]= (S*(P[i]-Ia[i]))/(P[i]-Ia[i]+S)\n",
        "    Pe[i]=P[i]-Ia[i]-Fa[i]\n",
        "  \n",
        "  pe[i]= Pe[i]-Pe[i-1]\n",
        "print (Pe)\n",
        "print (pe)\n",
        "plt.plot(time, P)\n",
        "plt.plot(time,Pe) \n",
        "plt.bar(time,pe)\n",
        "plt.xlabel('Time (h)')\n",
        "plt.ylabel('Rainfall (in)')\n",
        "plt.legend(['Cum Rainfall(P)','Cum Excess Rainfall (Pe)','Excess Rainfall Hyetograph'])"
      ],
      "metadata": {
        "colab": {
          "base_uri": "https://localhost:8080/",
          "height": 331
        },
        "id": "78TdyEuXAQwf",
        "outputId": "1ca73863-6464-4d4e-935f-27baa307be7b"
      },
      "execution_count": 30,
      "outputs": [
        {
          "output_type": "stream",
          "name": "stdout",
          "text": [
            "[0, 0, 0.05517241379310345, 0.18131498470948015, 0.7601160092807426, 2.5898496240601507, 3.1473388203017834, 3.2091847826086957]\n",
            "[0, 0, 0.05517241379310345, 0.1261425709163767, 0.5788010245712625, 1.829733614779408, 0.5574891962416326, 0.061845962306912305]\n"
          ]
        },
        {
          "output_type": "execute_result",
          "data": {
            "text/plain": [
              "<matplotlib.legend.Legend at 0x7f06ac883fd0>"
            ]
          },
          "metadata": {},
          "execution_count": 30
        },
        {
          "output_type": "display_data",
          "data": {
            "text/plain": [
              "<Figure size 432x288 with 1 Axes>"
            ],
            "image/png": "[encoded data removed]"
          },
          "metadata": {
            "needs_background": "light"
          }
        }
      ]
    }
  ]
}